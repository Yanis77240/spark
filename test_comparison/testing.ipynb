{
 "cells": [
  {
   "cell_type": "code",
   "execution_count": 10,
   "metadata": {},
   "outputs": [
    {
     "name": "stdout",
     "output_type": "stream",
     "text": [
      "   Test_group Failed_test\n",
      "0         NaN         NaN\n",
      "1         NaN         NaN\n",
      "2         NaN         NaN\n",
      "3         NaN         NaN\n",
      "4         NaN         NaN\n",
      "..        ...         ...\n",
      "91        NaN         NaN\n",
      "92        NaN         NaN\n",
      "93        NaN         NaN\n",
      "94        NaN         NaN\n",
      "95        NaN         NaN\n",
      "\n",
      "[96 rows x 2 columns]\n"
     ]
    }
   ],
   "source": [
    "import pandas as pd\n",
    "df2 = pd.read_csv('tests/2/java-test-failures.txt', header = None, delimiter='/t', engine='python')\n",
    "# Name the single column Tests\n",
    "df2.columns = ['Tests']\n",
    "# Split the columns into two coulumns named Failed_test and Test_group\n",
    "#df2[['Failed_test', 'Test_group']] = df2['Tests'].str.split('(', n=1, expand= True)\n",
    "df2['Test_group'] = df2['Tests'].str.extract(r\"\\[ERROR\\] .*?\\(([^()]+)\\) *Time elapsed:\", expand=True)\n",
    "# Remove the column Tests\n",
    "#df2.drop(columns=['Tests'], inplace= True)\n",
    "# Split the columns Test_group into two after the )\n",
    "#df2[['Test_group', 'unnecsessary']] = df2['Test_group'].str.split(')', n=1, expand= True)\n",
    "#df2[['Failed_test', 'unnecsessary']] = df2['Tests'].str.split('(', n=1, expand= True)\n",
    "df2['Failed_test'] = df2['Tests'].str.extract(r'\\[ERROR\\] (.+?)\\(')\n",
    "# Remove evrything after the parnetheses\n",
    "df2.drop(columns=['Tests'], inplace= True)\n",
    "#df2.drop(columns=['unnecsessary', 'Tests'], inplace= True)\n",
    "# Reorder columns\n",
    "df2= df2[['Test_group', 'Failed_test']]\n",
    "print(df2)"
   ]
  },
  {
   "cell_type": "code",
   "execution_count": 36,
   "metadata": {},
   "outputs": [
    {
     "data": {
      "text/html": [
       "<div>\n",
       "<style scoped>\n",
       "    .dataframe tbody tr th:only-of-type {\n",
       "        vertical-align: middle;\n",
       "    }\n",
       "\n",
       "    .dataframe tbody tr th {\n",
       "        vertical-align: top;\n",
       "    }\n",
       "\n",
       "    .dataframe thead th {\n",
       "        text-align: right;\n",
       "    }\n",
       "</style>\n",
       "<table border=\"1\" class=\"dataframe\">\n",
       "  <thead>\n",
       "    <tr style=\"text-align: right;\">\n",
       "      <th></th>\n",
       "      <th>test_group</th>\n",
       "      <th>aborted</th>\n",
       "      <th>failed_list</th>\n",
       "    </tr>\n",
       "  </thead>\n",
       "  <tbody>\n",
       "  </tbody>\n",
       "</table>\n",
       "</div>"
      ],
      "text/plain": [
       "Empty DataFrame\n",
       "Columns: [test_group, aborted, failed_list]\n",
       "Index: []"
      ]
     },
     "execution_count": 36,
     "metadata": {},
     "output_type": "execute_result"
    }
   ],
   "source": [
    "import pandas as pd\n",
    "import json\n",
    "with open(\"tests/java_plus_scala/4/results-4.json\", 'r') as json_file:\n",
    "    json_data = json.load(json_file)\n",
    "            \n",
    "# Convert the dictionary into a DataFrame\n",
    "# Create a list called record\n",
    "records = []\n",
    "# Loop through each element of the json file\n",
    "for test_group, values in json_data.items():\n",
    "    # If the list of failed test is not empty\n",
    "    # For each element in the failed_test list\n",
    "    for failed_test in values['failed_list']:\n",
    "        # Get the class Test_group and define it as key for value test_group which is the main element of the schema\n",
    "        record = {'test_group': test_group}\n",
    "        # Get the attribute values\n",
    "        record.update(values['test_stats'])\n",
    "        # Get the list of failed tests\n",
    "        record['failed_list'] = failed_test\n",
    "        # Append all these elements to the list records\n",
    "        records.append(record)\n",
    "\n",
    "# Define the dataframe\n",
    "df_external = pd.DataFrame(records)\n",
    "# Drop columns that we do not compare\n",
    "df_external.drop(columns= ['succeeded', 'failed', 'skipped', 'pending'], inplace=True)\n",
    "# Chenge the column type Aborted_tests to \"object\"\n",
    "df_external['aborted'] = df_external['aborted'].astype('object')\n",
    "#df_external[df_external['aborted'] == True]\n",
    "#df_external\n",
    "\n",
    "with open(\"tests/java_plus_scala/4/results-1.json\", 'r') as json_file:\n",
    "    json_data = json.load(json_file)\n",
    "\n",
    "# Convert the dictionary into a DataFrame\n",
    "# Create a list called record\n",
    "records = []\n",
    "# Loop through each element of the json file\n",
    "for test_group, values in json_data.items():\n",
    "    # For each element in the failed_test list\n",
    "    for failed_test in values['failed_list']:\n",
    "        # Get the class Test_group and define it as key for value test_group which is the main element of the schema\n",
    "        record = {'test_group': test_group}\n",
    "        # Get the attribute values\n",
    "        record.update(values['test_stats'])\n",
    "        # Get the list of failed tests\n",
    "\n",
    "        record['failed_list'] = failed_test\n",
    "        # Append all these elements to the list records\n",
    "        records.append(record)\n",
    "\n",
    "# Define the dataframe\n",
    "df = pd.DataFrame(records)\n",
    "df.drop(columns= ['succeeded', 'failed', 'skipped', 'pending'], inplace=True)\n",
    "\n",
    "#df['aborted'] = df_external['aborted'].astype('object')\n",
    "\n",
    "#df = df.merge(df_external, how='left', indicator=True)\n",
    "\n",
    "\n",
    "#df_comparison = df[((df['_merge'] == 'left_only') & pd.notna(df['aborted'])) | ((df['_merge'] == 'left_only') & pd.notna(df['failed_list']))]\n",
    "\n",
    "\n",
    "\n",
    "df_external[df_external['aborted']== True]\n"
   ]
  }
 ],
 "metadata": {
  "kernelspec": {
   "display_name": "Python 3.10.12 64-bit",
   "language": "python",
   "name": "python3"
  },
  "language_info": {
   "codemirror_mode": {
    "name": "ipython",
    "version": 3
   },
   "file_extension": ".py",
   "mimetype": "text/x-python",
   "name": "python",
   "nbconvert_exporter": "python",
   "pygments_lexer": "ipython3",
   "version": "3.10.12"
  },
  "orig_nbformat": 4,
  "vscode": {
   "interpreter": {
    "hash": "916dbcbb3f70747c44a77c7bcd40155683ae19c65e1c03b4aa3499c5328201f1"
   }
  }
 },
 "nbformat": 4,
 "nbformat_minor": 2
}
